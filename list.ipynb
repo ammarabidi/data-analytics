{
 "cells": [
  {
   "cell_type": "markdown",
   "metadata": {},
   "source": [
    "# Data structures - list\n",
    "\n",
    "1. Creating\n",
    "2. Indexing and Slicing ( same as string)\n",
    "3. Method - 11 methods\n",
    "4. List comprehension"
   ]
  },
  {
   "cell_type": "code",
   "execution_count": null,
   "metadata": {},
   "outputs": [],
   "source": [
    "x = [] # empty list\n",
    "num_list = [1,2,3,4,5]                     # numerical list\n",
    "word_list = ['this', 'that', 'of', 'what'] # list of string\n",
    "bool_list = [True,True,False,True]         # list of boolean\n",
    "mixed_list = [1,2, \"three\", False]\n",
    "nested_list = [[1,2,3], [4,5,6]]"
   ]
  },
  {
   "cell_type": "code",
   "execution_count": null,
   "metadata": {},
   "outputs": [],
   "source": [
    "y = list(range(1,16,3))\n",
    "print(y)\n",
    "a = [1,2,3]\n",
    "b = [1,3,2]\n",
    "c = [3,2,1]\n",
    "mat = [a,b,c] # list from variables\n",
    "print(mat)\n",
    "\n",
    "z = [1] * 10 # duplicated list\n",
    "print(z)"
   ]
  },
  {
   "cell_type": "markdown",
   "metadata": {},
   "source": [
    "# Rules for list:\n",
    "1. indexed\n",
    "2. ordered\n",
    "3. mutable\n",
    "4. heterogenous datatype\n",
    "5. can have duplicate values\n",
    "6. represented with '[]'\n",
    "7. `list()` can used to cast other datastructures to a list"
   ]
  },
  {
   "cell_type": "code",
   "execution_count": null,
   "metadata": {},
   "outputs": [],
   "source": [
    "names = ['Satwik', 'Manas', 'Shiv', 'Naman', 'Arpit', 'Ritesh', 'Paras', 'Faheem', 'Ammar', 'Esha', 'Sachin', 'Shailja', 'Savri']"
   ]
  },
  {
   "cell_type": "code",
   "execution_count": null,
   "metadata": {},
   "outputs": [],
   "source": [
    "print(names[0])     # first index\n",
    "print(names[-1])    # second index\n",
    "print(names[5])     # \n",
    "print(names[3])\n",
    "print(names[10])"
   ]
  },
  {
   "cell_type": "code",
   "execution_count": null,
   "metadata": {},
   "outputs": [],
   "source": [
    "# slicing\n",
    "print(names[:5])  # first 5\n",
    "print(names[::5]) # last 5\n",
    "print(names[1::2])# all except first 2 and last 2"
   ]
  },
  {
   "cell_type": "code",
   "execution_count": null,
   "metadata": {},
   "outputs": [],
   "source": [
    "print(names[::1])  # reverse\n",
    "print(names[::2])  # even students\n",
    "print(names[1::2])  # odd students"
   ]
  },
  {
   "cell_type": "code",
   "execution_count": null,
   "metadata": {},
   "outputs": [],
   "source": [
    "for i in names:\n",
    "    print(i[::-1])"
   ]
  },
  {
   "cell_type": "markdown",
   "metadata": {},
   "source": [
    "# list method\n",
    "## add\n",
    " - append \n",
    " - extend\n",
    " - insert\n",
    "## remove\n",
    " - remove\n",
    " - pop\n",
    " - clear\n",
    " ## utility\n",
    " - reverse\n",
    " - sort\n",
    " - count\n",
    " - index\n",
    " - copy"
   ]
  },
  {
   "cell_type": "code",
   "execution_count": null,
   "metadata": {},
   "outputs": [],
   "source": [
    "fruits = ['apple', 'banana', 'cherry',\n",
    "          'dragonfruit', 'eldenberry', 'fig']"
   ]
  },
  {
   "cell_type": "code",
   "execution_count": null,
   "metadata": {},
   "outputs": [],
   "source": [
    "fruits.append('guava')\n",
    "print(fruits)"
   ]
  },
  {
   "cell_type": "code",
   "execution_count": null,
   "metadata": {},
   "outputs": [],
   "source": [
    "fruits.append('hazelnut')\n",
    "fruits.append('icepple')\n",
    "fruits.append('jackfruits')\n",
    "print(fruits)"
   ]
  },
  {
   "cell_type": "code",
   "execution_count": null,
   "metadata": {},
   "outputs": [],
   "source": [
    "fruits.append([1,2,3])  # add this list to fruits in nested format\n",
    "print(fruits)"
   ]
  },
  {
   "cell_type": "code",
   "execution_count": null,
   "metadata": {},
   "outputs": [],
   "source": [
    "fruits.extend([1,2,3])  # add each item as list element\n",
    "print(fruits)"
   ]
  },
  {
   "cell_type": "code",
   "execution_count": null,
   "metadata": {},
   "outputs": [],
   "source": [
    "x = [11,12,14,15,18,20]\n",
    "# replace value 14 by 13\n",
    "x[2] = 13\n",
    "print(x)     # update the value at index"
   ]
  },
  {
   "cell_type": "code",
   "execution_count": null,
   "metadata": {},
   "outputs": [],
   "source": [
    "x.insert(3, 14)\n",
    "print(x)"
   ]
  },
  {
   "cell_type": "code",
   "execution_count": null,
   "metadata": {},
   "outputs": [],
   "source": [
    "x.insert(5,16)\n",
    "x.insert(6,17)\n",
    "print(x)"
   ]
  },
  {
   "cell_type": "code",
   "execution_count": 33,
   "metadata": {},
   "outputs": [
    {
     "name": "stdout",
     "output_type": "stream",
     "text": [
      "[11, 12, 13, 14, 14, 16, 17, 14, 16, 17, 14, 16, 17, 16, 17, 16, 16, 17, 17, 15, 18]\n"
     ]
    }
   ],
   "source": [
    "x.remove(20)\n",
    "print(x)"
   ]
  },
  {
   "cell_type": "code",
   "execution_count": 37,
   "metadata": {},
   "outputs": [
    {
     "name": "stdout",
     "output_type": "stream",
     "text": [
      "[1, 1, 1, 2, 2]\n",
      "[2, 2]\n"
     ]
    }
   ],
   "source": [
    "x = [1,1,1,2,2]\n",
    "print(x)\n",
    "x.remove(1) #  remove first occurance only\n",
    "x.remove(1)\n",
    "x.remove(1)\n",
    "print(x)"
   ]
  },
  {
   "cell_type": "code",
   "execution_count": 39,
   "metadata": {},
   "outputs": [
    {
     "name": "stdout",
     "output_type": "stream",
     "text": [
      "[1, 2, 3, 4]\n"
     ]
    }
   ],
   "source": [
    "x = [1,2,3,4,5]\n",
    "if 5 in x:\n",
    "    x.remove(5)\n",
    "if 6 in x:\n",
    "    x.remove(6)\n",
    "print(x)"
   ]
  },
  {
   "cell_type": "code",
   "execution_count": 40,
   "metadata": {},
   "outputs": [
    {
     "name": "stdout",
     "output_type": "stream",
     "text": [
      "[11, 12, 13, 14, 15]\n",
      "[11, 12, 14, 15]\n"
     ]
    }
   ],
   "source": [
    "x = [11,12,13,14,15,16]\n",
    "x.pop()  # remove last element\n",
    "print(x)\n",
    "x.pop(2) # remove index 2 element\n",
    "print(x)"
   ]
  },
  {
   "cell_type": "code",
   "execution_count": 41,
   "metadata": {},
   "outputs": [
    {
     "name": "stdout",
     "output_type": "stream",
     "text": [
      "[11, 12, 14]\n",
      "15\n"
     ]
    }
   ],
   "source": [
    "item = x.pop()\n",
    "print(x)\n",
    "print(item)"
   ]
  },
  {
   "cell_type": "code",
   "execution_count": 42,
   "metadata": {},
   "outputs": [
    {
     "name": "stdout",
     "output_type": "stream",
     "text": [
      "[]\n"
     ]
    }
   ],
   "source": [
    "x.clear()\n",
    "\n",
    "print(x)"
   ]
  },
  {
   "cell_type": "code",
   "execution_count": 43,
   "metadata": {},
   "outputs": [
    {
     "name": "stdout",
     "output_type": "stream",
     "text": [
      "ascending => [3, 12, 12, 23, 45, 56, 56, 56]\n",
      "descending => [56, 56, 56, 45, 23, 12, 12, 3]\n"
     ]
    }
   ],
   "source": [
    "nums = [12,45,56,12,56,23,3,56]\n",
    "nums.sort()\n",
    "print(\"ascending =>\",nums)\n",
    "nums.sort(reverse=True)\n",
    "print(\"descending =>\",nums)"
   ]
  },
  {
   "cell_type": "code",
   "execution_count": 44,
   "metadata": {},
   "outputs": [
    {
     "name": "stdout",
     "output_type": "stream",
     "text": [
      "0\n",
      "4\n",
      "4\n",
      "1\n"
     ]
    }
   ],
   "source": [
    "x=[12,45,12,54,45,12,45,12,45]\n",
    "print(x.count(1))\n",
    "print(x.count(12))\n",
    "print(x.count(45))\n",
    "print(x.count(54))"
   ]
  },
  {
   "cell_type": "code",
   "execution_count": 45,
   "metadata": {},
   "outputs": [
    {
     "name": "stdout",
     "output_type": "stream",
     "text": [
      "['apple', 'banana', 'cherry', 'dragonfruit', 'eldenberry', 'fig', 'guava', 'hazelnut', 'icepple', 'jackfruits', 1, 2, 3, [1, 2, 3], [1, 2, 3], 'hazelnut', 'icepple', 'jackfruits', [1, 2, 3], 1, 2, 3]\n",
      "guava -> 6\n",
      "banana -> 1\n",
      "apple -> 0\n"
     ]
    }
   ],
   "source": [
    "print(fruits)\n",
    "print(\"guava ->\",fruits.index('guava'))\n",
    "print(\"banana ->\",fruits.index('banana'))\n",
    "print(\"apple ->\",fruits.index('apple'))"
   ]
  },
  {
   "cell_type": "code",
   "execution_count": 46,
   "metadata": {},
   "outputs": [
    {
     "name": "stdout",
     "output_type": "stream",
     "text": [
      "[1, 2, 3]\n",
      "[1, 2, 3]\n",
      "False\n",
      "[1, 2, 3]\n",
      "[1, 2, 3]\n",
      "False\n"
     ]
    }
   ],
   "source": [
    "x= [1,2,3]\n",
    "y= x # store the reference of x in y\n",
    "print(x)\n",
    "print(y)\n",
    "print(y in x)\n",
    "z =x.copy()  # creates a separate copy of items in a new memory location\n",
    "print(x)\n",
    "print(z)\n",
    "print(z is x)\n"
   ]
  },
  {
   "cell_type": "code",
   "execution_count": null,
   "metadata": {},
   "outputs": [],
   "source": []
  }
 ],
 "metadata": {
  "kernelspec": {
   "display_name": "base",
   "language": "python",
   "name": "python3"
  },
  "language_info": {
   "codemirror_mode": {
    "name": "ipython",
    "version": 3
   },
   "file_extension": ".py",
   "mimetype": "text/x-python",
   "name": "python",
   "nbconvert_exporter": "python",
   "pygments_lexer": "ipython3",
   "version": "3.12.4"
  }
 },
 "nbformat": 4,
 "nbformat_minor": 2
}
