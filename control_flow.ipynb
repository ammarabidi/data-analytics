{
 "cells": [
  {
   "cell_type": "markdown",
   "metadata": {},
   "source": [
    "# control flow \n",
    "### condition\n",
    "- if\n",
    "- if else\n",
    "- if elif ladder\n",
    "- match case\n",
    "- nested if\n",
    "### loops\n",
    "- for loop\n",
    "- while loop"
   ]
  },
  {
   "cell_type": "markdown",
   "metadata": {},
   "source": [
    "### syntax\n",
    "if expression:\n",
    "    statement \n",
    "    statement \n",
    "    ...\n",
    "    statement n\n",
    "\n",
    "if expression:\n",
    "    ...\n",
    "else:\n",
    "    ..."
   ]
  },
  {
   "cell_type": "code",
   "execution_count": 4,
   "metadata": {},
   "outputs": [
    {
     "name": "stdout",
     "output_type": "stream",
     "text": [
      "😍 very nice\n",
      "🪲 no bug here:2\n",
      "Name exists\n"
     ]
    }
   ],
   "source": [
    "x= 10\n",
    "if x >= 5:\n",
    "    print(\"😍 very nice\")\n",
    "\n",
    "y=2\n",
    "if x> 5 and y< 5:\n",
    "    print(\"🪲 no bug here:\")\n",
    "\n",
    "name = \"jenny\"\n",
    "if name:\n",
    "    print(\"Name exists\")"
   ]
  },
  {
   "cell_type": "code",
   "execution_count": 5,
   "metadata": {},
   "outputs": [
    {
     "name": "stdout",
     "output_type": "stream",
     "text": [
      "a is not empty\n"
     ]
    }
   ],
   "source": [
    "a = 'Apple'\n",
    "if len(a):\n",
    "    print(\"a is not empty\")\n",
    "else:\n",
    "    print(\"a is empty\")"
   ]
  },
  {
   "cell_type": "markdown",
   "metadata": {},
   "source": [
    "5-aug-24\n",
    "\n",
    "if elif ladder\n",
    "|"
   ]
  },
  {
   "cell_type": "code",
   "execution_count": 1,
   "metadata": {},
   "outputs": [
    {
     "name": "stdout",
     "output_type": "stream",
     "text": [
      "C is the greatest\n"
     ]
    }
   ],
   "source": [
    "a=5\n",
    "b=2\n",
    "c=10\n",
    "if a>b and a>c:\n",
    "    print(\"A is the greatest\")\n",
    "elif b>a and b>c:\n",
    "    print(\"B is the greatest\")\n",
    "else:\n",
    "    print(\"C is the greatest\")"
   ]
  },
  {
   "cell_type": "code",
   "execution_count": 2,
   "metadata": {},
   "outputs": [
    {
     "name": "stdout",
     "output_type": "stream",
     "text": [
      "Students marks = 60\n",
      "Students grade = C\n"
     ]
    }
   ],
   "source": [
    "marks = int(input(\"Enter the marks\"))\n",
    "if marks>=90:\n",
    "    grade = \"A\"\n",
    "elif marks>=75:\n",
    "    grade =\"B\"\n",
    "elif marks>=60:\n",
    "    grade = \"C\"\n",
    "elif marks>=50:\n",
    "    grade = \"D\"\n",
    "else:\n",
    "    grade =\"F\"\n",
    "print(f\"Students marks = {marks}\")\n",
    "print(f\"Students grade = {grade}\")"
   ]
  },
  {
   "cell_type": "markdown",
   "metadata": {},
   "source": [
    "match case"
   ]
  },
  {
   "cell_type": "code",
   "execution_count": 5,
   "metadata": {},
   "outputs": [
    {
     "name": "stdout",
     "output_type": "stream",
     "text": [
      "You are correct\n"
     ]
    }
   ],
   "source": [
    "ans = input(\"What is the capital of India?\")\n",
    "match ans:\n",
    "    case 'Lucknow':\n",
    "        print(\"You are too stupid\")\n",
    "    case 'Delhi' | 'delhi':  #pipe symbol represents OR for multiple conditions\n",
    "        print(\"You are correct\")\n",
    "    case 'Calcutta':\n",
    "        print(\"You must be under a stone\")\n",
    "    case 'Shimla':\n",
    "        print(\"This is free India\")\n",
    "    case _:\n",
    "        print(\"You are not from India\") \n"
   ]
  },
  {
   "cell_type": "code",
   "execution_count": 15,
   "metadata": {},
   "outputs": [
    {
     "name": "stdout",
     "output_type": "stream",
     "text": [
      "Chai ki dukkan\n",
      "1. Chai 10rs\n",
      "2. Bun makhan 30 rs\n",
      "3. Cutting 5 rs\n",
      "4. Samosa 10 rs\n",
      "You have selected Samosa\n"
     ]
    }
   ],
   "source": [
    "print(\"Chai ki dukkan\")\n",
    "print(\"1. Chai 10rs\")\n",
    "print(\"2. Bun makhan 30 rs\")\n",
    "print(\"3. Cutting 5 rs\")\n",
    "print(\"4. Samosa 10 rs\")\n",
    "choice = int(input(\"Enter your choice:\"))\n",
    "match choice:\n",
    "    case 1:\n",
    "        print(\"You have selected chai\")\n",
    "    case 2:\n",
    "        print(\"You have selected bun makkhan\")\n",
    "    case 3:\n",
    "        print(\"You have selected Cutting\")\n",
    "    case 4:\n",
    "        print(\"You have selected Samosa\")\n",
    "    case _:\n",
    "        print(\"Invalid choice\")"
   ]
  },
  {
   "cell_type": "markdown",
   "metadata": {},
   "source": [
    "##loops\n",
    "\n",
    "- step based loop (for loop)\n",
    "- condition based loop (while loop)\n",
    "\n",
    "```python\n",
    "for varname in iterable:\n",
    "    statement 1\n",
    "    statement 2\n",
    "    ...\n",
    "    statement n\n",
    "```\n",
    "\n",
    "```python\n",
    "while expression:\n",
    "    statement 1\n",
    "    statement 2\n",
    "    ...\n",
    "    statement n\n",
    "```"
   ]
  },
  {
   "cell_type": "code",
   "execution_count": 1,
   "metadata": {},
   "outputs": [
    {
     "name": "stdout",
     "output_type": "stream",
     "text": [
      "1\n",
      "2\n",
      "3\n",
      "4\n",
      "5\n",
      "6\n"
     ]
    }
   ],
   "source": [
    "numbers =[1,2,3,4,5,6]\n",
    "for i in numbers:\n",
    "    print(i)"
   ]
  },
  {
   "cell_type": "code",
   "execution_count": 4,
   "metadata": {},
   "outputs": [
    {
     "name": "stdout",
     "output_type": "stream",
     "text": [
      "sony\n",
      "apple\n",
      "lenovo\n",
      "samsung\n"
     ]
    }
   ],
   "source": [
    "brands=['sony','apple','lenovo','samsung']\n",
    "for name in brands:\n",
    "    print(name)"
   ]
  },
  {
   "cell_type": "markdown",
   "metadata": {},
   "source": [
    "iterable\n",
    "- list\n",
    "- str\n",
    "- tuple\n",
    "- set\n",
    "- dict\n",
    "- range\n",
    "- generator\n",
    "- lazy objects"
   ]
  },
  {
   "cell_type": "code",
   "execution_count": 5,
   "metadata": {},
   "outputs": [
    {
     "name": "stdout",
     "output_type": "stream",
     "text": [
      "J\n",
      "o\n",
      "u\n",
      "r\n",
      "n\n",
      "e\n",
      "y\n"
     ]
    }
   ],
   "source": [
    "word = 'Journey'\n",
    "for c in word:\n",
    "    print(c)\n"
   ]
  },
  {
   "cell_type": "code",
   "execution_count": null,
   "metadata": {},
   "outputs": [],
   "source": []
  },
  {
   "cell_type": "code",
   "execution_count": 6,
   "metadata": {},
   "outputs": [
    {
     "name": "stdout",
     "output_type": "stream",
     "text": [
      "34\n",
      "12\n",
      "52\n",
      "23\n",
      "55\n"
     ]
    }
   ],
   "source": [
    "for i in {12,52,23,34,55}:\n",
    "    print(i)"
   ]
  },
  {
   "cell_type": "markdown",
   "metadata": {},
   "source": [
    "# range func\n",
    "\n",
    "```python\n",
    "range(stop)-0 to stop-1\n",
    "range(start, stop)-start to stop-1\n",
    "range(start,stop,step)-start to stop-1 with step"
   ]
  },
  {
   "cell_type": "code",
   "execution_count": 7,
   "metadata": {},
   "outputs": [
    {
     "name": "stdout",
     "output_type": "stream",
     "text": [
      "0 1 2 3 4 5 6 7 8 9 "
     ]
    }
   ],
   "source": [
    "for i in range(10):\n",
    "    print(i, end=' ')"
   ]
  },
  {
   "cell_type": "code",
   "execution_count": 17,
   "metadata": {},
   "outputs": [
    {
     "name": "stdout",
     "output_type": "stream",
     "text": [
      "5 6 7 8 9 10 "
     ]
    }
   ],
   "source": [
    "for i in range(5,11):  #range nly works wth loop\n",
    "    print(i, end=' ')"
   ]
  },
  {
   "cell_type": "code",
   "execution_count": 15,
   "metadata": {},
   "outputs": [
    {
     "name": "stdout",
     "output_type": "stream",
     "text": [
      "10 9 8 7 6 5 4 3 2 1 "
     ]
    }
   ],
   "source": [
    "# reverse loop\n",
    "for i in range(10, 0, -1):\n",
    "    print(i, end=' ')\n"
   ]
  },
  {
   "cell_type": "code",
   "execution_count": 20,
   "metadata": {},
   "outputs": [
    {
     "name": "stdout",
     "output_type": "stream",
     "text": [
      "-5, -4, -3, -2, -1, 0, 1, 2, 3, 4, 5, "
     ]
    }
   ],
   "source": [
    "for i in range(-5, 6):\n",
    "    print(i, end=', ')"
   ]
  },
  {
   "cell_type": "code",
   "execution_count": 30,
   "metadata": {},
   "outputs": [
    {
     "name": "stdout",
     "output_type": "stream",
     "text": [
      "5050\n"
     ]
    }
   ],
   "source": [
    "# sum of all numbers from 1 - 100\n",
    "s=0\n",
    "for t in range(1, 101):\n",
    "    s=s+t\n",
    "print(s)"
   ]
  },
  {
   "cell_type": "code",
   "execution_count": 32,
   "metadata": {},
   "outputs": [
    {
     "data": {
      "text/plain": [
       "5050"
      ]
     },
     "execution_count": 32,
     "metadata": {},
     "output_type": "execute_result"
    }
   ],
   "source": [
    "#alternative for above code\n",
    "#typecasting range to list\n",
    "sum(list(range(1,101))) #imp"
   ]
  },
  {
   "cell_type": "code",
   "execution_count": 36,
   "metadata": {},
   "outputs": [
    {
     "name": "stdout",
     "output_type": "stream",
     "text": [
      "ammar\n"
     ]
    }
   ],
   "source": [
    "# find the largest word in the list\n",
    "words = ['ben','ammar','mohan','roy','soham']\n",
    "word = ''\n",
    "for i in words:\n",
    "    if len(i) > len(word):\n",
    "        word = i\n",
    "        #print(f'keeping {item} into word')\n",
    "print(word)"
   ]
  },
  {
   "cell_type": "markdown",
   "metadata": {},
   "source": [
    "break and continue"
   ]
  },
  {
   "cell_type": "code",
   "execution_count": 37,
   "metadata": {},
   "outputs": [
    {
     "name": "stdout",
     "output_type": "stream",
     "text": [
      "0 1 2 3 4 The end\n"
     ]
    }
   ],
   "source": [
    "for i in range(10):\n",
    "    if i == 5:\n",
    "        break\n",
    "    print(i, end= ' ')\n",
    "print(\"The end\")"
   ]
  },
  {
   "cell_type": "code",
   "execution_count": 38,
   "metadata": {},
   "outputs": [
    {
     "name": "stdout",
     "output_type": "stream",
     "text": [
      "1\n",
      "2\n",
      "3\n",
      "4\n",
      "We found some crap\n"
     ]
    }
   ],
   "source": [
    "data = [1,2,3,4,0,5,6,2,3]\n",
    "for i in data:\n",
    "    if i==0:\n",
    "        print(\"We found some crap\")\n",
    "        break # stop the loop\n",
    "    print(i)"
   ]
  },
  {
   "cell_type": "code",
   "execution_count": 39,
   "metadata": {},
   "outputs": [
    {
     "name": "stdout",
     "output_type": "stream",
     "text": [
      "1\n",
      "4\n",
      "9\n",
      "16\n",
      "We found some crap\n",
      "25\n",
      "36\n",
      "4\n",
      "9\n"
     ]
    }
   ],
   "source": [
    "data = [1,2,3,4,0,5,6,2,3]\n",
    "for i in data:\n",
    "    if i==0:\n",
    "        print(\"We found some crap\")\n",
    "        continue # skip to next item\n",
    "    print(i**2)"
   ]
  },
  {
   "cell_type": "markdown",
   "metadata": {},
   "source": [
    "```\n",
    "enumerate(), zip()"
   ]
  },
  {
   "cell_type": "code",
   "execution_count": 40,
   "metadata": {},
   "outputs": [
    {
     "name": "stdout",
     "output_type": "stream",
     "text": [
      "0 apple\n",
      "1 banana\n",
      "2 mango\n",
      "3 orange\n",
      "4 kiwi\n"
     ]
    }
   ],
   "source": [
    "fruits = ['apple','banana','mango','orange','kiwi']\n",
    "# enumerate func gives two values one is index and other is data\n",
    "for idx, name in enumerate(fruits):\n",
    "    print(idx, name)"
   ]
  },
  {
   "cell_type": "code",
   "execution_count": 42,
   "metadata": {},
   "outputs": [
    {
     "name": "stdout",
     "output_type": "stream",
     "text": [
      "0\n",
      "56\n",
      "134\n",
      "36\n",
      "224\n"
     ]
    }
   ],
   "source": [
    "numbers = [23,56,67,12,56]\n",
    "for idx, num in enumerate(numbers):\n",
    "    print(num*idx)"
   ]
  },
  {
   "cell_type": "code",
   "execution_count": 43,
   "metadata": {},
   "outputs": [
    {
     "name": "stdout",
     "output_type": "stream",
     "text": [
      "12\n",
      "24\n",
      "36\n",
      "48\n",
      "60\n"
     ]
    }
   ],
   "source": [
    "x = [1,2,3,4,5]\n",
    "y = [11,22,33,44,55]\n",
    "for i,j in zip(x,y):\n",
    "    print(i+j)"
   ]
  },
  {
   "cell_type": "code",
   "execution_count": 44,
   "metadata": {},
   "outputs": [
    {
     "name": "stdout",
     "output_type": "stream",
     "text": [
      "12\n",
      "15\n",
      "18\n"
     ]
    }
   ],
   "source": [
    "# zip func is used for  using mutliple iterables in a single loop which is now possible otherwise\n",
    "# the iterables can be of either same or different types\n",
    "x = [1,2,3]\n",
    "y = [4,5,6]\n",
    "z = [7,8,9,10]\n",
    "for i, j, k in zip(x,y,z):\n",
    "    print(i+j+k)"
   ]
  },
  {
   "cell_type": "code",
   "execution_count": 46,
   "metadata": {},
   "outputs": [
    {
     "name": "stdout",
     "output_type": "stream",
     "text": [
      "6\n"
     ]
    }
   ],
   "source": [
    "# count the number of vowels in a sentence\n",
    "count =0\n",
    "sentence = \"This is a very gud day\"\n",
    "for ch in sentence:\n",
    "    if ch == 'a' or ch == 'e' or ch=='i' or ch=='o' or ch=='u':\n",
    "        count = count+1\n",
    "print(count)"
   ]
  },
  {
   "cell_type": "code",
   "execution_count": null,
   "metadata": {},
   "outputs": [],
   "source": []
  }
 ],
 "metadata": {
  "kernelspec": {
   "display_name": "base",
   "language": "python",
   "name": "python3"
  },
  "language_info": {
   "codemirror_mode": {
    "name": "ipython",
    "version": 3
   },
   "file_extension": ".py",
   "mimetype": "text/x-python",
   "name": "python",
   "nbconvert_exporter": "python",
   "pygments_lexer": "ipython3",
   "version": "3.12.4"
  }
 },
 "nbformat": 4,
 "nbformat_minor": 2
}
