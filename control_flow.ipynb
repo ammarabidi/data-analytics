{
 "cells": [
  {
   "cell_type": "markdown",
   "metadata": {},
   "source": [
    "# control flow \n",
    "### condition\n",
    "- if\n",
    "- if else\n",
    "- if elif ladder\n",
    "- match case\n",
    "- nested if\n",
    "### loops\n",
    "- for loop\n",
    "- while loop"
   ]
  },
  {
   "cell_type": "markdown",
   "metadata": {},
   "source": [
    "### syntax\n",
    "if expression:\n",
    "    statement \n",
    "    statement \n",
    "    ...\n",
    "    statement n\n",
    "\n",
    "if expression:\n",
    "    ...\n",
    "else:\n",
    "    ..."
   ]
  },
  {
   "cell_type": "code",
   "execution_count": 4,
   "metadata": {},
   "outputs": [
    {
     "name": "stdout",
     "output_type": "stream",
     "text": [
      "😍 very nice\n",
      "🪲 no bug here:2\n",
      "Name exists\n"
     ]
    }
   ],
   "source": [
    "x= 10\n",
    "if x >= 5:\n",
    "    print(\"😍 very nice\")\n",
    "\n",
    "y=2\n",
    "if x> 5 and y< 5:\n",
    "    print(\"🪲 no bug here:\")\n",
    "\n",
    "name = \"jenny\"\n",
    "if name:\n",
    "    print(\"Name exists\")"
   ]
  },
  {
   "cell_type": "code",
   "execution_count": 5,
   "metadata": {},
   "outputs": [
    {
     "name": "stdout",
     "output_type": "stream",
     "text": [
      "a is not empty\n"
     ]
    }
   ],
   "source": [
    "a = 'Apple'\n",
    "if len(a):\n",
    "    print(\"a is not empty\")\n",
    "else:\n",
    "    print(\"a is empty\")"
   ]
  },
  {
   "cell_type": "markdown",
   "metadata": {},
   "source": [
    "5-aug-24\n",
    "\n",
    "if elif ladder\n",
    "|"
   ]
  },
  {
   "cell_type": "code",
   "execution_count": 1,
   "metadata": {},
   "outputs": [
    {
     "name": "stdout",
     "output_type": "stream",
     "text": [
      "C is the greatest\n"
     ]
    }
   ],
   "source": [
    "a=5\n",
    "b=2\n",
    "c=10\n",
    "if a>b and a>c:\n",
    "    print(\"A is the greatest\")\n",
    "elif b>a and b>c:\n",
    "    print(\"B is the greatest\")\n",
    "else:\n",
    "    print(\"C is the greatest\")"
   ]
  },
  {
   "cell_type": "code",
   "execution_count": 2,
   "metadata": {},
   "outputs": [
    {
     "name": "stdout",
     "output_type": "stream",
     "text": [
      "Students marks = 60\n",
      "Students grade = C\n"
     ]
    }
   ],
   "source": [
    "marks = int(input(\"Enter the marks\"))\n",
    "if marks>=90:\n",
    "    grade = \"A\"\n",
    "elif marks>=75:\n",
    "    grade =\"B\"\n",
    "elif marks>=60:\n",
    "    grade = \"C\"\n",
    "elif marks>=50:\n",
    "    grade = \"D\"\n",
    "else:\n",
    "    grade =\"F\"\n",
    "print(f\"Students marks = {marks}\")\n",
    "print(f\"Students grade = {grade}\")"
   ]
  },
  {
   "cell_type": "markdown",
   "metadata": {},
   "source": [
    "match case"
   ]
  },
  {
   "cell_type": "code",
   "execution_count": 5,
   "metadata": {},
   "outputs": [
    {
     "name": "stdout",
     "output_type": "stream",
     "text": [
      "You are correct\n"
     ]
    }
   ],
   "source": [
    "ans = input(\"What is the capital of India?\")\n",
    "match ans:\n",
    "    case 'Lucknow':\n",
    "        print(\"You are too stupid\")\n",
    "    case 'Delhi' | 'delhi':  #pipe symbol represents OR for multiple conditions\n",
    "        print(\"You are correct\")\n",
    "    case 'Calcutta':\n",
    "        print(\"You must be under a stone\")\n",
    "    case 'Shimla':\n",
    "        print(\"This is free India\")\n",
    "    case _:\n",
    "        print(\"You are not from India\") \n"
   ]
  },
  {
   "cell_type": "code",
   "execution_count": 15,
   "metadata": {},
   "outputs": [
    {
     "name": "stdout",
     "output_type": "stream",
     "text": [
      "Chai ki dukkan\n",
      "1. Chai 10rs\n",
      "2. Bun makhan 30 rs\n",
      "3. Cutting 5 rs\n",
      "4. Samosa 10 rs\n",
      "You have selected Samosa\n"
     ]
    }
   ],
   "source": [
    "print(\"Chai ki dukkan\")\n",
    "print(\"1. Chai 10rs\")\n",
    "print(\"2. Bun makhan 30 rs\")\n",
    "print(\"3. Cutting 5 rs\")\n",
    "print(\"4. Samosa 10 rs\")\n",
    "choice = int(input(\"Enter your choice:\"))\n",
    "match choice:\n",
    "    case 1:\n",
    "        print(\"You have selected chai\")\n",
    "    case 2:\n",
    "        print(\"You have selected bun makkhan\")\n",
    "    case 3:\n",
    "        print(\"You have selected Cutting\")\n",
    "    case 4:\n",
    "        print(\"You have selected Samosa\")\n",
    "    case _:\n",
    "        print(\"Invalid choice\")"
   ]
  },
  {
   "cell_type": "code",
   "execution_count": null,
   "metadata": {},
   "outputs": [],
   "source": []
  }
 ],
 "metadata": {
  "kernelspec": {
   "display_name": "base",
   "language": "python",
   "name": "python3"
  },
  "language_info": {
   "codemirror_mode": {
    "name": "ipython",
    "version": 3
   },
   "file_extension": ".py",
   "mimetype": "text/x-python",
   "name": "python",
   "nbconvert_exporter": "python",
   "pygments_lexer": "ipython3",
   "version": "3.12.4"
  }
 },
 "nbformat": 4,
 "nbformat_minor": 2
}
