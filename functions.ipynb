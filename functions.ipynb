{
 "cells": [
  {
   "cell_type": "markdown",
   "metadata": {},
   "source": [
    "# functions\n",
    "- predefined function\n",
    "    1. built-in functions\n",
    "    2. module based functons\n",
    "        1. python standard library\n",
    "        2. 3rd party library(``pip install library``)\n",
    "- user defined function\n",
    "    1. non-parametrised \n",
    "    2. function with return type\n",
    "    3. parametrised\n",
    "        1. required parameter\n",
    "        2. named argument\n",
    "        3. default parameter\n",
    "        4. variable length argument \n",
    "        5. keyword variable length argument\n",
    "    4. Anonymous function (lambda function)\n",
    "    5. Generator function"
   ]
  },
  {
   "cell_type": "code",
   "execution_count": null,
   "metadata": {},
   "outputs": [],
   "source": [
    "# built-in functions\n",
    "print()\n",
    "input()\n",
    "int()\n",
    "str()\n",
    "list()\n",
    "dict()\n",
    "tuple()\n",
    "open()\n",
    "range()\n",
    "len()\n",
    "max()\n",
    "min()\n",
    "help(max)"
   ]
  },
  {
   "cell_type": "code",
   "execution_count": null,
   "metadata": {},
   "outputs": [],
   "source": [
    "x = 5\n",
    "eq = input('give me an equation for x')\n",
    "eval(eq)"
   ]
  },
  {
   "cell_type": "markdown",
   "metadata": {},
   "source": [
    "open() for file handling"
   ]
  },
  {
   "cell_type": "code",
   "execution_count": null,
   "metadata": {},
   "outputs": [],
   "source": [
    "print(open('dictionary.ipynb').read())"
   ]
  },
  {
   "cell_type": "code",
   "execution_count": null,
   "metadata": {},
   "outputs": [],
   "source": [
    "with open('hello.py') as file:\n",
    "    content = file.read()\n",
    "print(content)"
   ]
  },
  {
   "cell_type": "code",
   "execution_count": null,
   "metadata": {},
   "outputs": [],
   "source": [
    "with open('stroy.txt','w') as f:\n",
    "    f.write('Once upon a time in a land far far away\\n')\n",
    "    f.write('There lived a king who was a good king\\n')\n",
    "    f.write('He was loved by all his subjects\\n')"
   ]
  },
  {
   "cell_type": "code",
   "execution_count": null,
   "metadata": {},
   "outputs": [],
   "source": [
    "# 'a' refers to append mode\n",
    "with open('stroy.txt', 'a') as f:\n",
    "    f.write('But he had a secret\\n')\n",
    "    f.write('He was a wizard\\n')\n",
    "    f.write('He could do magic\\n')"
   ]
  },
  {
   "cell_type": "code",
   "execution_count": null,
   "metadata": {},
   "outputs": [],
   "source": [
    "with open('story.txt') as f:\n",
    "    content = f.read()\n",
    "    print(content)"
   ]
  },
  {
   "cell_type": "code",
   "execution_count": null,
   "metadata": {},
   "outputs": [],
   "source": [
    "# python standard library\n",
    "import random\n",
    "\n",
    "for i in range(10):\n",
    "    ans = random.randint(1, 10) # 1 <= x <= 10\n",
    "    print(ans)"
   ]
  },
  {
   "cell_type": "code",
   "execution_count": null,
   "metadata": {},
   "outputs": [],
   "source": [
    "fruits = ['apple', 'banana', 'cherry']\n",
    "for i in range(10):\n",
    "    print(random.choice(fruits))"
   ]
  },
  {
   "cell_type": "code",
   "execution_count": null,
   "metadata": {},
   "outputs": [],
   "source": [
    "x = [1,2,3,4,5,7,8,9,10]\n",
    "print(random.choices(x, k=3))\n",
    "print(random.sample(x, k=5))\n",
    "random.shuffle(x)\n",
    "print(x)"
   ]
  },
  {
   "cell_type": "code",
   "execution_count": null,
   "metadata": {},
   "outputs": [],
   "source": [
    "from datetime import datetime"
   ]
  },
  {
   "cell_type": "code",
   "execution_count": null,
   "metadata": {},
   "outputs": [],
   "source": [
    "# 12/12/2012\n",
    "doomsday = datetime(2012, 12, 12)\n",
    "print(doomsday)\n",
    "# 10:05\n",
    "time = datetime(1970,1,1,10,5)\n",
    "print(time)\n",
    "currDay = datetime.now()\n",
    "print(currDay)\n",
    "timestamp = datetime.timestamp(currDay)\n",
    "print(timestamp) # seconds since epoch (1970)\n",
    "\n",
    "datetime.fromtimestamp(29123901202)\n",
    "\n",
    "from datetime import timedelta\n",
    "\n",
    "today = datetime.now()\n",
    "print(today)\n",
    "print(today + timedelta(days=100))\n",
    "\n",
    "# format time\n",
    "print(today.date())\n",
    "print(today.time())\n",
    "\n",
    "# strtime\n",
    "print(today.strftime(\"%d/%m/%Y\"))\n",
    "print(today.strftime(\"%H/%M\"))"
   ]
  },
  {
   "cell_type": "code",
   "execution_count": null,
   "metadata": {},
   "outputs": [],
   "source": [
    "# os module\n",
    "import os\n",
    "BASE_DIR = os.getcwd()\n",
    "print(BASE_DIR)"
   ]
  },
  {
   "cell_type": "code",
   "execution_count": null,
   "metadata": {},
   "outputs": [],
   "source": [
    "print(os.listdir())"
   ]
  },
  {
   "cell_type": "code",
   "execution_count": null,
   "metadata": {},
   "outputs": [],
   "source": [
    "# delete file\n",
    "os.unlink('story.txt')\n",
    "print(os.listdir())"
   ]
  },
  {
   "cell_type": "code",
   "execution_count": 33,
   "metadata": {},
   "outputs": [
    {
     "name": "stdout",
     "output_type": "stream",
     "text": [
      "total content is 35\n"
     ]
    }
   ],
   "source": [
    "content = os.listdir(\"C:/program files\") #'/usr/bin'\n",
    "print(f\"total content is {len(content)}\")"
   ]
  },
  {
   "cell_type": "code",
   "execution_count": 35,
   "metadata": {},
   "outputs": [],
   "source": [
    "for item in content:\n",
    "    os.path.isfile(item)"
   ]
  },
  {
   "cell_type": "code",
   "execution_count": null,
   "metadata": {},
   "outputs": [],
   "source": []
  }
 ],
 "metadata": {
  "kernelspec": {
   "display_name": "base",
   "language": "python",
   "name": "python3"
  },
  "language_info": {
   "codemirror_mode": {
    "name": "ipython",
    "version": 3
   },
   "file_extension": ".py",
   "mimetype": "text/x-python",
   "name": "python",
   "nbconvert_exporter": "python",
   "pygments_lexer": "ipython3",
   "version": "3.12.4"
  }
 },
 "nbformat": 4,
 "nbformat_minor": 2
}
