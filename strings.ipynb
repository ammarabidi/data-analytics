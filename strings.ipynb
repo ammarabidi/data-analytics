{
 "cells": [
  {
   "cell_type": "markdown",
   "metadata": {},
   "source": [
    "# String\n",
    "- creating\n",
    "- indexing\n",
    "- slicing\n",
    "- methods"
   ]
  },
  {
   "cell_type": "code",
   "execution_count": 1,
   "metadata": {},
   "outputs": [],
   "source": [
    "# creation\n",
    "a = '' # empty string\n",
    "name= 'Sara' # single quoted\n",
    "city = 'Lucknow' \n",
    "messAGE = '''this is an example\n",
    "of multiline string in python,\n",
    "triple quotes allow multi line concept'''"
   ]
  },
  {
   "cell_type": "code",
   "execution_count": 2,
   "metadata": {},
   "outputs": [
    {
     "name": "stdout",
     "output_type": "stream",
     "text": [
      "~o~|~o~|~o~|~o~|~o~|~o~|~o~|~o~|~o~|~o~|\n"
     ]
    }
   ],
   "source": [
    "# string suplication \n",
    "decor = '~o~|' * 10\n",
    "print(decor)"
   ]
  },
  {
   "cell_type": "code",
   "execution_count": 3,
   "metadata": {},
   "outputs": [
    {
     "data": {
      "text/plain": [
       "'Sara_Lucknow'"
      ]
     },
     "execution_count": 3,
     "metadata": {},
     "output_type": "execute_result"
    }
   ],
   "source": [
    "# string concatenation string combine\n",
    "name + \"_\" + city"
   ]
  },
  {
   "cell_type": "code",
   "execution_count": 6,
   "metadata": {},
   "outputs": [
    {
     "name": "stdout",
     "output_type": "stream",
     "text": [
      "192301\n",
      "[1, 2, 3]\n",
      "True\n",
      "False\n",
      "89.433\n"
     ]
    }
   ],
   "source": [
    "# casting \n",
    "a = str(192301)\n",
    "b = str([1,2,3])\n",
    "c = str(True)\n",
    "d = str(False)\n",
    "e = str(89.433)\n",
    "print(a)\n",
    "print(b)\n",
    "print(c)\n",
    "print(d)\n",
    "print(e)"
   ]
  },
  {
   "cell_type": "code",
   "execution_count": 10,
   "metadata": {},
   "outputs": [
    {
     "name": "stdout",
     "output_type": "stream",
     "text": [
      "SYNCRONISED\n",
      "11\n",
      "S\n",
      "Y\n",
      "N\n",
      "C\n",
      "O\n",
      "D\n",
      "E\n",
      "S\n",
      "N\n"
     ]
    }
   ],
   "source": [
    "word = \"SYNCRONISED\"\n",
    "print(word)\n",
    "print(len(word))\n",
    "print(word[0]) # first\n",
    "print(word[1]) # second\n",
    "print(word[2]) # third\n",
    "print(word[3]) # fourth\n",
    "print(word[5]) # sixth\n",
    "print(word[-1]) # last\n",
    "print(word[-2]) # second last\n",
    "print(word[-3]) # third last\n",
    "print(word[-5]) # fifth last\n"
   ]
  },
  {
   "cell_type": "markdown",
   "metadata": {},
   "source": [
    "```\n",
    "slicing\n",
    "syntax\n",
    "```python\n",
    "\n",
    "var[start:stop] #start from an index and get slice till stop-1\n",
    "\n",
    "var[start: stop: step]\n",
    "\n",
    "var[: stop]  # start from the beginning\n",
    "\n",
    "var[start :] # start from an index stop at the end\n",
    "\n",
    "```"
   ]
  },
  {
   "cell_type": "code",
   "execution_count": 11,
   "metadata": {},
   "outputs": [
    {
     "name": "stdout",
     "output_type": "stream",
     "text": [
      "SYNC\n",
      "SYNC\n",
      "ONI\n",
      "RONISED\n",
      "YCOIE\n",
      "SNRNS\n",
      "SNRNSD\n",
      "DESINORCNYS\n"
     ]
    }
   ],
   "source": [
    "print(word[0:4])\n",
    "print(word[:4])\n",
    "print(word[5:8])\n",
    "print(word[4:])\n",
    "print(word[1:10:2])\n",
    "print(word[:10:2])\n",
    "print(word[::2]) # all even indexes\n",
    "print(word[::-1]) # reverse"
   ]
  },
  {
   "cell_type": "code",
   "execution_count": 24,
   "metadata": {},
   "outputs": [
    {
     "name": "stdout",
     "output_type": "stream",
     "text": [
      "Vijay\n",
      "Deenath\n",
      "Chauhan\n"
     ]
    }
   ],
   "source": [
    "name = \"Vijay Deenath Chauhan\"\n",
    "print(name[0:5])\n",
    "print(name[6:13])\n",
    "print(name[14:22])\n"
   ]
  },
  {
   "cell_type": "markdown",
   "metadata": {},
   "source": [
    "9- Aug _2024"
   ]
  },
  {
   "cell_type": "markdown",
   "metadata": {},
   "source": [
    "#String methods\n",
    "\n",
    "- formatting\n",
    "- validation\n",
    "- utility"
   ]
  },
  {
   "cell_type": "code",
   "execution_count": 3,
   "metadata": {},
   "outputs": [
    {
     "name": "stdout",
     "output_type": "stream",
     "text": [
      "original: Journey before Destination\n",
      "upper JOURNEY BEFORE DESTINATION\n",
      "lower journey before destination\n",
      "capitalize Journey before destination\n",
      "title Journey Before Destination\n",
      "swapcase jOURNEY BEFORE dESTINATION\n",
      "casefold journey before destination\n",
      "Journey before Destination\n",
      "JOURNEY BEFORE DESTINATION\n"
     ]
    }
   ],
   "source": [
    "# formatting\n",
    "quote = \"Journey before Destination\"\n",
    "print(\"original:\", quote)\n",
    "print(\"upper\", quote.upper())\n",
    "print(\"lower\", quote.lower())\n",
    "print(\"capitalize\", quote.capitalize())\n",
    "print(\"title\", quote.title())\n",
    "print(\"swapcase\", quote.swapcase())\n",
    "print(\"casefold\", quote.casefold())\n",
    "print(quote)\n",
    "quote = quote.upper()\n",
    "print(quote)"
   ]
  },
  {
   "cell_type": "code",
   "execution_count": 4,
   "metadata": {},
   "outputs": [
    {
     "name": "stdout",
     "output_type": "stream",
     "text": [
      "JOURNEY BEFORE DESTINATION                                                      \n",
      "JOURNEY BEFORE DESTINATION______________________________________________________\n",
      "                                                      JOURNEY BEFORE DESTINATION\n",
      "^^^^^^^^^^^^^^^^^^^^^^^^^^^^^^^^^^^^^^^^^^^^^^^^^^^^^^JOURNEY BEFORE DESTINATION\n"
     ]
    },
    {
     "ename": "AttributeError",
     "evalue": "'str' object has no attribute 'centre'",
     "output_type": "error",
     "traceback": [
      "\u001b[1;31m---------------------------------------------------------------------------\u001b[0m",
      "\u001b[1;31mAttributeError\u001b[0m                            Traceback (most recent call last)",
      "Cell \u001b[1;32mIn[4], line 5\u001b[0m\n\u001b[0;32m      3\u001b[0m \u001b[38;5;28mprint\u001b[39m(quote\u001b[38;5;241m.\u001b[39mrjust(\u001b[38;5;241m80\u001b[39m))\n\u001b[0;32m      4\u001b[0m \u001b[38;5;28mprint\u001b[39m(quote\u001b[38;5;241m.\u001b[39mrjust(\u001b[38;5;241m80\u001b[39m, \u001b[38;5;124m'\u001b[39m\u001b[38;5;124m^\u001b[39m\u001b[38;5;124m'\u001b[39m))\n\u001b[1;32m----> 5\u001b[0m \u001b[38;5;28mprint\u001b[39m(quote\u001b[38;5;241m.\u001b[39mcentre(\u001b[38;5;241m80\u001b[39m))\n\u001b[0;32m      6\u001b[0m \u001b[38;5;28mprint\u001b[39m(quote\u001b[38;5;241m.\u001b[39mcentre(\u001b[38;5;241m80\u001b[39m, \u001b[38;5;124m'\u001b[39m\u001b[38;5;124m_\u001b[39m\u001b[38;5;124m'\u001b[39m))\n",
      "\u001b[1;31mAttributeError\u001b[0m: 'str' object has no attribute 'centre'"
     ]
    }
   ],
   "source": [
    "print(quote.ljust(80))\n",
    "print(quote.ljust(80, '_'))\n",
    "print(quote.rjust(80))\n",
    "print(quote.rjust(80, '^'))\n",
    "print(quote.centre(80))\n",
    "print(quote.centre(80, '_'))\n"
   ]
  },
  {
   "cell_type": "code",
   "execution_count": 6,
   "metadata": {},
   "outputs": [
    {
     "name": "stdout",
     "output_type": "stream",
     "text": [
      "True\n",
      "False\n",
      "True\n",
      "True\n",
      "False\n",
      "True\n",
      "True\n",
      "True\n",
      "False\n",
      "False\n",
      "True\n",
      "True\n",
      "False\n"
     ]
    }
   ],
   "source": [
    "# validation\n",
    "print('123'.isdigit()) # validation function\n",
    "print('1 23'.isdigit())\n",
    "print('apple'.isalpha()) # isalpha\n",
    "print('lapple'.isalpha()) \n",
    "print('apple pie'.isalpha())\n",
    "print('apple123'.isalnum()) # isalnum\n",
    "print('123'.isalnum()) \n",
    "print('cherry'.isalnum()) \n",
    "print('cherry 123'.isalnum()) \n",
    "print('cherry 123'.isnumeric()) \n",
    "print('123'.isnumeric()) \n",
    "print(' '.isspace()) \n",
    "print('1 3 2 '.isspace()) "
   ]
  },
  {
   "cell_type": "code",
   "execution_count": 8,
   "metadata": {},
   "outputs": [
    {
     "name": "stdout",
     "output_type": "stream",
     "text": [
      "Bravo!\n"
     ]
    }
   ],
   "source": [
    "num = input(\"enter a number\")\n",
    "if num.isnumeric():\n",
    "    num = int(num)\n",
    "    print(\"Bravo!\")\n",
    "else:\n",
    "    print(\"Please go back to kindergarten\")"
   ]
  },
  {
   "cell_type": "code",
   "execution_count": 9,
   "metadata": {},
   "outputs": [
    {
     "name": "stdout",
     "output_type": "stream",
     "text": [
      "True\n",
      "False\n",
      "False\n",
      "True\n",
      "True\n",
      "True\n",
      "False\n"
     ]
    }
   ],
   "source": [
    "print('apple'.startswith('a'))\n",
    "print('apple'.startswith('A'))\n",
    "print('apple'.startswith('b'))\n",
    "print('apple'.endswith('e'))\n",
    "print('book.pdf'.endswith('pdf'))\n",
    "print('book_one.pdf'.startswith('book'))\n",
    "print('book_one.pdf'.startswith('one'))"
   ]
  },
  {
   "cell_type": "code",
   "execution_count": 14,
   "metadata": {},
   "outputs": [
    {
     "name": "stdout",
     "output_type": "stream",
     "text": [
      "a.exe\n",
      "1\n",
      "b.exe\n",
      "2\n",
      "2\n",
      "d.exe\n",
      "3\n",
      "3\n",
      "3\n"
     ]
    }
   ],
   "source": [
    "apps = ['a.exe', 'b.exe', 'c.pdf','d.exe', 'e.doc', 'f.doc']\n",
    "count=0\n",
    "for app in apps:\n",
    "    if app.endswith('.exe'):\n",
    "        print(app)\n",
    "        count= count+1\n",
    "    print(count)"
   ]
  },
  {
   "cell_type": "markdown",
   "metadata": {},
   "source": [
    "# utility - find, replace, count,, split, strip, join"
   ]
  },
  {
   "cell_type": "code",
   "execution_count": 16,
   "metadata": {},
   "outputs": [
    {
     "name": "stdout",
     "output_type": "stream",
     "text": [
      "8\n",
      "8\n",
      "4\n",
      "20\n",
      "-1\n",
      "19\n",
      "10\n",
      "-1\n"
     ]
    }
   ],
   "source": [
    "print(quote.find('B'))\n",
    "print(quote.find('BEFORE'))\n",
    "print(quote.find('N'))\n",
    "print(quote.find('N', 5)) # start from 5 index\n",
    "print(quote.find('I', 1, 10)) # start from 1 index , stop 10 index7\n",
    "print(quote.find('I',)) \n",
    "print(quote.find('FORE DE')) \n",
    "print(quote.find('FOREDE')) "
   ]
  },
  {
   "cell_type": "code",
   "execution_count": 21,
   "metadata": {},
   "outputs": [
    {
     "name": "stdout",
     "output_type": "stream",
     "text": [
      "JOURNEY AFTER DESTINATION\n",
      "JOURNAY BAFORA DASTINATION\n",
      "JOURNOY BOFORE DESTINATION\n",
      "JOURN^^^Y B^^^FOR^^^ D^^^STINATION\n",
      "SLEEPING BEFORE DESTINATION\n"
     ]
    },
    {
     "ename": "NameError",
     "evalue": "name 'replace' is not defined",
     "output_type": "error",
     "traceback": [
      "\u001b[1;31m---------------------------------------------------------------------------\u001b[0m",
      "\u001b[1;31mNameError\u001b[0m                                 Traceback (most recent call last)",
      "Cell \u001b[1;32mIn[21], line 8\u001b[0m\n\u001b[0;32m      6\u001b[0m quote \u001b[38;5;241m=\u001b[39m quote\u001b[38;5;241m.\u001b[39mreplace(\u001b[38;5;124m\"\u001b[39m\u001b[38;5;124mJOURNEY\u001b[39m\u001b[38;5;124m\"\u001b[39m, \u001b[38;5;124m\"\u001b[39m\u001b[38;5;124mSLEEPING\u001b[39m\u001b[38;5;124m\"\u001b[39m)\n\u001b[0;32m      7\u001b[0m \u001b[38;5;28mprint\u001b[39m(quote)\n\u001b[1;32m----> 8\u001b[0m quote \u001b[38;5;241m=\u001b[39m quote\u001b[38;5;241m.\u001b[39mreplace(\u001b[38;5;124m'\u001b[39m\u001b[38;5;124mA\u001b[39m\u001b[38;5;124m'\u001b[39m,\u001b[38;5;124m'\u001b[39m\u001b[38;5;124m_\u001b[39m\u001b[38;5;124m'\u001b[39m)\u001b[38;5;241m.\u001b[39mreplace(\u001b[38;5;124m\"\u001b[39m\u001b[38;5;124mE\u001b[39m\u001b[38;5;124m\"\u001b[39m,\u001b[38;5;124m\"\u001b[39m\u001b[38;5;124m_\u001b[39m\u001b[38;5;124m\"\u001b[39m),replace(\u001b[38;5;124m\"\u001b[39m\u001b[38;5;124mI\u001b[39m\u001b[38;5;124m\"\u001b[39m,\u001b[38;5;124m'\u001b[39m\u001b[38;5;124m_\u001b[39m\u001b[38;5;124m'\u001b[39m)\n\u001b[0;32m      9\u001b[0m \u001b[38;5;28mprint\u001b[39m(quote)\n",
      "\u001b[1;31mNameError\u001b[0m: name 'replace' is not defined"
     ]
    }
   ],
   "source": [
    "print(quote.replace(\"BEFORE\", \"AFTER\"))\n",
    "print(quote.replace(\"E\",\"A\"))\n",
    "print(quote.replace(\"E\",\"O\", 2))\n",
    "print(quote.replace(\"E\",\"^^^\"))\n",
    "\n",
    "quote = quote.replace(\"JOURNEY\", \"SLEEPING\")\n",
    "print(quote)\n",
    "quote = quote.replace('A','_').replace(\"E\",\"_\"),replace(\"I\",'_')\n",
    "print(quote)"
   ]
  },
  {
   "cell_type": "code",
   "execution_count": 22,
   "metadata": {},
   "outputs": [
    {
     "name": "stdout",
     "output_type": "stream",
     "text": [
      "5\n",
      "3\n",
      "1\n",
      "3\n"
     ]
    }
   ],
   "source": [
    "words = 'egg spam egg egg spam egg spam bacon egg'\n",
    "print(words.count('egg'))\n",
    "print(words.count('spam'))\n",
    "print(words.count('bacon'))\n",
    "print(words.count('egg s'))"
   ]
  },
  {
   "cell_type": "code",
   "execution_count": 24,
   "metadata": {},
   "outputs": [
    {
     "name": "stdout",
     "output_type": "stream",
     "text": [
      " Alex mason \n",
      "Alex mason\n",
      "\n",
      "\n",
      "    123340\n",
      "\n",
      "\n",
      "123340\n"
     ]
    }
   ],
   "source": [
    "name = ' Alex mason '\n",
    "print(name)\n",
    "print(name.strip())\n",
    "data = '''\n",
    "\n",
    "    123340\n",
    "\n",
    "''' \n",
    "print(data)\n",
    "print(data.strip())"
   ]
  },
  {
   "cell_type": "code",
   "execution_count": 26,
   "metadata": {},
   "outputs": [
    {
     "name": "stdout",
     "output_type": "stream",
     "text": [
      "['egg', 'spam', 'egg', 'egg', 'spam', 'egg', 'spam', 'bacon', 'egg']\n",
      "['a', ' b', ' c', ' d', ' e']\n",
      "['a', 'b', 'd', 'e']\n"
     ]
    }
   ],
   "source": [
    "print(words.split())\n",
    "print(\"a, b, c, d, e\".split(','))\n",
    "print(\"a-b-d-e\".split('-'))\n"
   ]
  },
  {
   "cell_type": "code",
   "execution_count": 30,
   "metadata": {},
   "outputs": [
    {
     "name": "stdout",
     "output_type": "stream",
     "text": [
      "192.168.1.1\n"
     ]
    }
   ],
   "source": [
    "addr = ['192', '168', '1', '1'] # list of str\n",
    "ip_addr = \".\".join(addr)\n",
    "print(ip_addr)"
   ]
  },
  {
   "cell_type": "code",
   "execution_count": null,
   "metadata": {},
   "outputs": [],
   "source": [
    "_"
   ]
  }
 ],
 "metadata": {
  "kernelspec": {
   "display_name": "base",
   "language": "python",
   "name": "python3"
  },
  "language_info": {
   "codemirror_mode": {
    "name": "ipython",
    "version": 3
   },
   "file_extension": ".py",
   "mimetype": "text/x-python",
   "name": "python",
   "nbconvert_exporter": "python",
   "pygments_lexer": "ipython3",
   "version": "3.12.4"
  }
 },
 "nbformat": 4,
 "nbformat_minor": 2
}
