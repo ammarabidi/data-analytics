{
 "cells": [
  {
   "cell_type": "markdown",
   "metadata": {},
   "source": [
    "# String\n",
    "- creating\n",
    "- indexing\n",
    "- slicing\n",
    "- methods"
   ]
  },
  {
   "cell_type": "code",
   "execution_count": 1,
   "metadata": {},
   "outputs": [],
   "source": [
    "# creation\n",
    "a = '' # empty string\n",
    "name= 'Sara' # single quoted\n",
    "city = 'Lucknow' \n",
    "messAGE = '''this is an example\n",
    "of multiline string in python,\n",
    "triple quotes allow multi line concept'''"
   ]
  },
  {
   "cell_type": "code",
   "execution_count": 2,
   "metadata": {},
   "outputs": [
    {
     "name": "stdout",
     "output_type": "stream",
     "text": [
      "~o~|~o~|~o~|~o~|~o~|~o~|~o~|~o~|~o~|~o~|\n"
     ]
    }
   ],
   "source": [
    "# string suplication \n",
    "decor = '~o~|' * 10\n",
    "print(decor)"
   ]
  },
  {
   "cell_type": "code",
   "execution_count": 3,
   "metadata": {},
   "outputs": [
    {
     "data": {
      "text/plain": [
       "'Sara_Lucknow'"
      ]
     },
     "execution_count": 3,
     "metadata": {},
     "output_type": "execute_result"
    }
   ],
   "source": [
    "# string concatenation string combine\n",
    "name + \"_\" + city"
   ]
  },
  {
   "cell_type": "code",
   "execution_count": 6,
   "metadata": {},
   "outputs": [
    {
     "name": "stdout",
     "output_type": "stream",
     "text": [
      "192301\n",
      "[1, 2, 3]\n",
      "True\n",
      "False\n",
      "89.433\n"
     ]
    }
   ],
   "source": [
    "# casting \n",
    "a = str(192301)\n",
    "b = str([1,2,3])\n",
    "c = str(True)\n",
    "d = str(False)\n",
    "e = str(89.433)\n",
    "print(a)\n",
    "print(b)\n",
    "print(c)\n",
    "print(d)\n",
    "print(e)"
   ]
  },
  {
   "cell_type": "code",
   "execution_count": 10,
   "metadata": {},
   "outputs": [
    {
     "name": "stdout",
     "output_type": "stream",
     "text": [
      "SYNCRONISED\n",
      "11\n",
      "S\n",
      "Y\n",
      "N\n",
      "C\n",
      "O\n",
      "D\n",
      "E\n",
      "S\n",
      "N\n"
     ]
    }
   ],
   "source": [
    "word = \"SYNCRONISED\"\n",
    "print(word)\n",
    "print(len(word))\n",
    "print(word[0]) # first\n",
    "print(word[1]) # second\n",
    "print(word[2]) # third\n",
    "print(word[3]) # fourth\n",
    "print(word[5]) # sixth\n",
    "print(word[-1]) # last\n",
    "print(word[-2]) # second last\n",
    "print(word[-3]) # third last\n",
    "print(word[-5]) # fifth last\n"
   ]
  },
  {
   "cell_type": "markdown",
   "metadata": {},
   "source": [
    "```\n",
    "slicing\n",
    "syntax\n",
    "```python\n",
    "\n",
    "var[start:stop] #start from an index and get slice till stop-1\n",
    "\n",
    "var[start: stop: step]\n",
    "\n",
    "var[: stop]  # start from the beginning\n",
    "\n",
    "var[start :] # start from an index stop at the end\n",
    "\n",
    "```"
   ]
  },
  {
   "cell_type": "code",
   "execution_count": 11,
   "metadata": {},
   "outputs": [
    {
     "name": "stdout",
     "output_type": "stream",
     "text": [
      "SYNC\n",
      "SYNC\n",
      "ONI\n",
      "RONISED\n",
      "YCOIE\n",
      "SNRNS\n",
      "SNRNSD\n",
      "DESINORCNYS\n"
     ]
    }
   ],
   "source": [
    "print(word[0:4])\n",
    "print(word[:4])\n",
    "print(word[5:8])\n",
    "print(word[4:])\n",
    "print(word[1:10:2])\n",
    "print(word[:10:2])\n",
    "print(word[::2]) # all even indexes\n",
    "print(word[::-1]) # reverse"
   ]
  },
  {
   "cell_type": "code",
   "execution_count": 24,
   "metadata": {},
   "outputs": [
    {
     "name": "stdout",
     "output_type": "stream",
     "text": [
      "Vijay\n",
      "Deenath\n",
      "Chauhan\n"
     ]
    }
   ],
   "source": [
    "name = \"Vijay Deenath Chauhan\"\n",
    "print(name[0:5])\n",
    "print(name[6:13])\n",
    "print(name[14:22])\n"
   ]
  },
  {
   "cell_type": "code",
   "execution_count": null,
   "metadata": {},
   "outputs": [],
   "source": []
  }
 ],
 "metadata": {
  "kernelspec": {
   "display_name": "base",
   "language": "python",
   "name": "python3"
  },
  "language_info": {
   "codemirror_mode": {
    "name": "ipython",
    "version": 3
   },
   "file_extension": ".py",
   "mimetype": "text/x-python",
   "name": "python",
   "nbconvert_exporter": "python",
   "pygments_lexer": "ipython3",
   "version": "3.12.4"
  }
 },
 "nbformat": 4,
 "nbformat_minor": 2
}
