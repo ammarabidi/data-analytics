{
 "cells": [
  {
   "cell_type": "markdown",
   "metadata": {},
   "source": [
    "# Data structures - dictionary\n",
    "- ordered\n",
    "- mutable\n",
    "- key-value pairs (unindexed)\n",
    "- keys are unique\n",
    "- values can be any datatype\n",
    "- keys should be immmutable (`int`,`float`,`string`,`tuple`)\n",
    "- keys are case-sensitive\n",
    "- represented with `{}`\n",
    "- `dict()` is used to make dictionary"
   ]
  },
  {
   "cell_type": "code",
   "execution_count": 2,
   "metadata": {},
   "outputs": [
    {
     "name": "stdout",
     "output_type": "stream",
     "text": [
      "{} {'apple': 50, 'oranges': 25} {'almond': 200, 'cashew': 100}\n"
     ]
    }
   ],
   "source": [
    "a = {} # empty dictionary\n",
    "\n",
    "b = {'apple':50, 'oranges':25}\n",
    "\n",
    "c = dict(almond=200, cashew=100)\n",
    "print(a,b,c)"
   ]
  },
  {
   "cell_type": "code",
   "execution_count": 3,
   "metadata": {},
   "outputs": [
    {
     "ename": "SyntaxError",
     "evalue": "unterminated string literal (detected at line 1) (1217067821.py, line 1)",
     "output_type": "error",
     "traceback": [
      "\u001b[1;36m  Cell \u001b[1;32mIn[3], line 1\u001b[1;36m\u001b[0m\n\u001b[1;33m    d = {\"k1: {\u001b[0m\n\u001b[1;37m         ^\u001b[0m\n\u001b[1;31mSyntaxError\u001b[0m\u001b[1;31m:\u001b[0m unterminated string literal (detected at line 1)\n"
     ]
    }
   ],
   "source": [
    "d = {\"k1: {\n",
    "     \"k11: 5,\n",
    "     \"k12\":10\n",
    "     },\n",
    "    \"k2\": {\n",
    "        \"k21\": 15,\n",
    "        \"k22\": 20\n",
    "    }}\n",
    "print(d)"
   ]
  },
  {
   "cell_type": "code",
   "execution_count": null,
   "metadata": {},
   "outputs": [],
   "source": [
    "print(b['apples']) # direct access\n",
    "# print(b['apple])\n",
    "print(b.get('apple'))\n",
    "print(b.get('apple','not found')) # default value\n",
    "print(b.get('apples'))\n",
    "print(b.get('apple','not found')) # default value"
   ]
  },
  {
   "cell_type": "code",
   "execution_count": 4,
   "metadata": {},
   "outputs": [
    {
     "name": "stdout",
     "output_type": "stream",
     "text": [
      "{'apple': 50, 'oranges': 25, 'mango': 10, 'dates': 5, 'peach': 10}\n"
     ]
    }
   ],
   "source": [
    "# add/update values\n",
    "b['mango'] = 10 # add\n",
    "b['dates'] = 5  # add\n",
    "b['peach'] = 10 # add\n",
    "b['apple'] = 50 # update (existing key used)\n",
    "print(b)"
   ]
  },
  {
   "cell_type": "code",
   "execution_count": 5,
   "metadata": {},
   "outputs": [
    {
     "name": "stdout",
     "output_type": "stream",
     "text": [
      "{'apple': 50, 'oranges': 25, 'dates': 5, 'peach': 10}\n"
     ]
    }
   ],
   "source": [
    "# remove\n",
    "b.pop('mango')\n",
    "print(b)"
   ]
  },
  {
   "cell_type": "code",
   "execution_count": 9,
   "metadata": {},
   "outputs": [
    {
     "name": "stdout",
     "output_type": "stream",
     "text": [
      "apple 50\n",
      "oranges 25\n",
      "dates 5\n",
      "peach 10\n",
      "apple 50\n",
      "oranges 25\n",
      "dates 5\n",
      "peach 10\n",
      "50\n",
      "25\n",
      "5\n",
      "10\n"
     ]
    }
   ],
   "source": [
    "# traversal\n",
    "# style 1\n",
    "for key in b:\n",
    "    print(key, b[key])\n",
    "\n",
    "# style 2\n",
    "for k, v in b.items():\n",
    "    print(k,v)\n",
    "\n",
    "# style 3\n",
    "for v in b.values():\n",
    "    print(v)"
   ]
  },
  {
   "cell_type": "code",
   "execution_count": 10,
   "metadata": {},
   "outputs": [
    {
     "data": {
      "text/plain": [
       "dict_keys(['apple', 'oranges', 'dates', 'peach'])"
      ]
     },
     "execution_count": 10,
     "metadata": {},
     "output_type": "execute_result"
    }
   ],
   "source": [
    "b.keys()"
   ]
  },
  {
   "cell_type": "code",
   "execution_count": null,
   "metadata": {},
   "outputs": [],
   "source": []
  }
 ],
 "metadata": {
  "kernelspec": {
   "display_name": "base",
   "language": "python",
   "name": "python3"
  },
  "language_info": {
   "codemirror_mode": {
    "name": "ipython",
    "version": 3
   },
   "file_extension": ".py",
   "mimetype": "text/x-python",
   "name": "python",
   "nbconvert_exporter": "python",
   "pygments_lexer": "ipython3",
   "version": "3.12.4"
  }
 },
 "nbformat": 4,
 "nbformat_minor": 2
}
