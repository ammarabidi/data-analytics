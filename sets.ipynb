{
 "cells": [
  {
   "cell_type": "markdown",
   "metadata": {},
   "source": [
    "# Data structures - Set\n",
    "- unordered\n",
    "- unindexed\n",
    "- mutable\n",
    "- mixed immutable elements\n",
    "- unique elements\n",
    "- iterable\n",
    "- represented bu curly braces '{}'\n",
    "- set() for creating sets"
   ]
  },
  {
   "cell_type": "code",
   "execution_count": 4,
   "metadata": {},
   "outputs": [
    {
     "name": "stdout",
     "output_type": "stream",
     "text": [
      "set() <class 'set'>\n",
      "{1, 2, 3}\n",
      "{'a', 'c', 'b', 'd'}\n",
      "{1, 2, 3, 4, 5}\n",
      "{1, 2, 3}\n",
      "{'a', 1, 2, 3, 'c', 'b'}\n"
     ]
    }
   ],
   "source": [
    "x = set() # empty set\n",
    "print(x, type (x))\n",
    "y = {1,2,3}\n",
    "z = {'a','b','d','c'}\n",
    "print(y)\n",
    "print(z)\n",
    "a = set([1,2,3,4,5])\n",
    "print(a)\n",
    "b = {1,2,3,1,2,3,1,2,3}\n",
    "print(b)\n",
    "c = {'a',1,'b',2,'c',3}\n",
    "print(c)"
   ]
  },
  {
   "cell_type": "code",
   "execution_count": 5,
   "metadata": {},
   "outputs": [
    {
     "name": "stdout",
     "output_type": "stream",
     "text": [
      "1\n",
      "2\n",
      "3\n"
     ]
    }
   ],
   "source": [
    "# traversing in a set\n",
    "for i in b:\n",
    "    print(i)"
   ]
  },
  {
   "cell_type": "code",
   "execution_count": 6,
   "metadata": {},
   "outputs": [
    {
     "name": "stdout",
     "output_type": "stream",
     "text": [
      "{'Legion', 'Snapshot', 'Firefight', 'Steelheart'}\n"
     ]
    }
   ],
   "source": [
    "books = set()\n",
    "books.add(\"Legion\")\n",
    "books.add(\"Snapshot\")\n",
    "books.add(\"Steelheart\")\n",
    "books.add(\"Firefight\")\n",
    "print(books)"
   ]
  },
  {
   "cell_type": "code",
   "execution_count": 7,
   "metadata": {},
   "outputs": [
    {
     "name": "stdout",
     "output_type": "stream",
     "text": [
      "{'Legion', 'Snapshot', 'Firefight', 'Elantris', 'Mistborn', 'Calamity', 'Steelheart'}\n"
     ]
    }
   ],
   "source": [
    "books.update([\"Calamity\", \"Mistborn\", \"Elantris\"])\n",
    "print(books)"
   ]
  },
  {
   "cell_type": "code",
   "execution_count": 8,
   "metadata": {},
   "outputs": [],
   "source": [
    "books.discard(\"Mistborn\") # discard is better than remove"
   ]
  },
  {
   "cell_type": "code",
   "execution_count": 9,
   "metadata": {},
   "outputs": [
    {
     "data": {
      "text/plain": [
       "'Legion'"
      ]
     },
     "execution_count": 9,
     "metadata": {},
     "output_type": "execute_result"
    }
   ],
   "source": [
    "books.pop() # removes a random element"
   ]
  },
  {
   "cell_type": "code",
   "execution_count": 10,
   "metadata": {},
   "outputs": [],
   "source": [
    "a = {1,2,3,4,5}\n",
    "b = {4,5,6,7,8}\n",
    "c = {1,2,3}\n",
    "d = {5,6,7}"
   ]
  },
  {
   "cell_type": "markdown",
   "metadata": {},
   "source": [
    "- `union()` => `|1\n",
    "- `intersection()` => `%`\n",
    "- `difference()` => `-`\n",
    "- `symmetric difference` => `^`"
   ]
  },
  {
   "cell_type": "markdown",
   "metadata": {},
   "source": []
  },
  {
   "cell_type": "code",
   "execution_count": 11,
   "metadata": {},
   "outputs": [
    {
     "name": "stdout",
     "output_type": "stream",
     "text": [
      "intersection\n",
      "{4, 5}\n",
      "{4, 5}\n",
      "difference\n",
      "{1, 2, 3}\n",
      "{1, 2, 3}\n",
      "symmetric difference\n",
      "{1, 2, 3, 6, 7, 8}\n",
      "{1, 2, 3, 6, 7, 8}\n"
     ]
    }
   ],
   "source": [
    "print(\"intersection\")\n",
    "print(a.intersection(b))\n",
    "print(a & b)\n",
    "\n",
    "print(\"difference\")\n",
    "print(a.difference(b))\n",
    "print(a - b)\n",
    "\n",
    "print(\"symmetric difference\")\n",
    "print(a.symmetric_difference(b))\n",
    "print(a ^ b)"
   ]
  },
  {
   "cell_type": "code",
   "execution_count": 12,
   "metadata": {},
   "outputs": [
    {
     "name": "stdout",
     "output_type": "stream",
     "text": [
      "joined False\n",
      "disjointed: True\n"
     ]
    }
   ],
   "source": [
    "print(\"joined\", a.isdisjoint(c))\n",
    "print(\"disjointed:\",a.isdisjoint({11,12}))"
   ]
  },
  {
   "cell_type": "code",
   "execution_count": 13,
   "metadata": {},
   "outputs": [
    {
     "name": "stdout",
     "output_type": "stream",
     "text": [
      "subset: True\n",
      "superset: False\n",
      "superset: True\n"
     ]
    }
   ],
   "source": [
    "print(\"subset:\",c.issubset(a))\n",
    "print(\"superset:\",d.issuperset(c))\n",
    "print(\"superset:\",b.issuperset(d))"
   ]
  },
  {
   "cell_type": "code",
   "execution_count": 20,
   "metadata": {},
   "outputs": [
    {
     "ename": "ValueError",
     "evalue": "invalid literal for int() with base 10: ''",
     "output_type": "error",
     "traceback": [
      "\u001b[1;31m---------------------------------------------------------------------------\u001b[0m",
      "\u001b[1;31mValueError\u001b[0m                                Traceback (most recent call last)",
      "Cell \u001b[1;32mIn[20], line 4\u001b[0m\n\u001b[0;32m      1\u001b[0m \u001b[38;5;66;03m# wap that allows user to enter data as much as they want and then \u001b[39;00m\n\u001b[0;32m      2\u001b[0m \u001b[38;5;66;03m# remove duplicates and print the unique data\u001b[39;00m\n\u001b[1;32m----> 4\u001b[0m lent \u001b[38;5;241m=\u001b[39m \u001b[38;5;28mint\u001b[39m(\u001b[38;5;28minput\u001b[39m(\u001b[38;5;124m\"\u001b[39m\u001b[38;5;124menter elements u want in set\u001b[39m\u001b[38;5;124m\"\u001b[39m ))  \u001b[38;5;66;03m# first method\u001b[39;00m\n\u001b[0;32m      5\u001b[0m z \u001b[38;5;241m=\u001b[39m \u001b[38;5;241m0\u001b[39m\n\u001b[0;32m      6\u001b[0m setx \u001b[38;5;241m=\u001b[39m \u001b[38;5;28mset\u001b[39m()\n",
      "\u001b[1;31mValueError\u001b[0m: invalid literal for int() with base 10: ''"
     ]
    }
   ],
   "source": [
    "# wap that allows user to enter data as much as they want and then \n",
    "# remove duplicates and print the unique data\n",
    "\n",
    "lent = int(input(\"enter elements u want in set\" ))  # first method\n",
    "z = 0\n",
    "setx = set()\n",
    "while z<lent:\n",
    "    el = input(\"Enter no. of elements: \")\n",
    "    setx.add(el)\n",
    "    z=z+1\n",
    "print(setx)"
   ]
  },
  {
   "cell_type": "code",
   "execution_count": 19,
   "metadata": {},
   "outputs": [],
   "source": [
    "# second easy method\n",
    "data = set()\n",
    "while True:\n",
    "    value = input(\"Enter your data\")\n",
    "    if not value:\n",
    "        break\n",
    "    data.add(value)\n",
    "print(\"Your data\")\n",
    "for item in data:\n",
    "    print(\"==>\",item)"
   ]
  },
  {
   "cell_type": "code",
   "execution_count": null,
   "metadata": {},
   "outputs": [],
   "source": []
  }
 ],
 "metadata": {
  "kernelspec": {
   "display_name": "base",
   "language": "python",
   "name": "python3"
  },
  "language_info": {
   "codemirror_mode": {
    "name": "ipython",
    "version": 3
   },
   "file_extension": ".py",
   "mimetype": "text/x-python",
   "name": "python",
   "nbconvert_exporter": "python",
   "pygments_lexer": "ipython3",
   "version": "3.12.4"
  }
 },
 "nbformat": 4,
 "nbformat_minor": 2
}
